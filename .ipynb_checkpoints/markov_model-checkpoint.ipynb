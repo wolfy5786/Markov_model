{
 "cells": [
  {
   "cell_type": "code",
   "execution_count": 1,
   "id": "d2a959f7-fdf1-4154-b92d-e053cdfd273e",
   "metadata": {},
   "outputs": [],
   "source": [
    "import numpy as np\n",
    "import pandas as pd\n",
    "import re\n",
    "import os\n",
    "import string\n",
    "import inflect\n",
    "import queue"
   ]
  },
  {
   "cell_type": "code",
   "execution_count": 2,
   "id": "4646c71a-0530-440a-b1db-56f9d65841f5",
   "metadata": {},
   "outputs": [],
   "source": [
    "def is_contents_section(line):\n",
    "    \"\"\"Check if the line is a 'contents' section.\"\"\"\n",
    "    return line == 'contents' or line == 'table of contents'\n",
    "\n",
    "def is_chapter_or_numbered(line):\n",
    "    \"\"\"Check if the line starts with a number, Roman numeral, or the word 'chapter'.\"\"\"\n",
    "    return bool(re.match(r'^(\\d+|i{1,3}|iv|v{1,3}|ix|x|chapter)\\b', line))"
   ]
  },
  {
   "cell_type": "code",
   "execution_count": 3,
   "id": "23da3e8a-904b-4042-a95a-60f61779f1ec",
   "metadata": {},
   "outputs": [],
   "source": [
    "def rewrite(file_path, output_path):\n",
    "    try:\n",
    "        skip_section = False\n",
    "\n",
    "        with open(file_path, 'r', encoding='utf-8') as infile, open(output_path, 'w', encoding='utf-8') as outfile:\n",
    "            for line in infile:\n",
    "                processed_line = line.strip().lower() # Strip leading/trailing whitespace, lowercase the line\n",
    "                if processed_line:\n",
    "                    print(processed_line) \n",
    "                    if is_contents_section(processed_line):\n",
    "                        skip_section = True\n",
    "                        continue\n",
    "        \n",
    "                    if skip_section:\n",
    "                        if is_chapter_or_numbered(processed_line):\n",
    "                            continue\n",
    "                        else:\n",
    "                            skip_section = False\n",
    "                    outfile.write(processed_line + '\\n')\n",
    "\n",
    "        print(f\"Preprocessing complete. Processed text saved to {output_path}\")\n",
    "    except Exception as e:\n",
    "        print(f\"An error occurred: {e}\")\n"
   ]
  },
  {
   "cell_type": "code",
   "execution_count": 4,
   "id": "f8a7dc99-1745-4a17-9ac8-c0a595425763",
   "metadata": {},
   "outputs": [],
   "source": [
    "def preprocessing(text):\n",
    "    processed = text.strip().lower()\n",
    "    \n",
    "    re_html = re.compile('<.*?>')\n",
    "    processed = re_html.sub(r'', processed) #remove html\n",
    "\n",
    "    re_url = re.compile(r'https?://[^\\s/$.?#].[^\\s]*|www\\.[^\\s/$.?#].[^\\s]*')\n",
    "    processed = re_url.sub('', processed)\n",
    "\n",
    "    punctuations = set(string.punctuation) #remove selective punctuations\n",
    "    punctuations = (punctuations - {'.','!','?'})\n",
    "    punctuations = ''.join(punctuations)\n",
    "\n",
    "    pun_dict = {\".\": \" . \", \"!\" : \" ! \", \"?\":\" ? \"} # to treat punctuations as a seprate word\n",
    "    processed = processed.translate(str.maketrans(pun_dict))\n",
    "\n",
    "    p = inflect.engine()\n",
    "    words = processed.split()\n",
    "    processed = \" \".join([p.number_to_words(w) if w.isnumeric() else w for w in words]) #numbers to words\n",
    "    \n",
    "    processed = processed.translate(str.maketrans(\"\",\"\",punctuations))\n",
    "\n",
    "    return processed.split()\n",
    "    "
   ]
  },
  {
   "cell_type": "code",
   "execution_count": 5,
   "id": "d5914696-a609-454e-bfe7-df3d4d32df28",
   "metadata": {},
   "outputs": [
    {
     "name": "stdout",
     "output_type": "stream",
     "text": [
      "!\"#$%&'()*+,-./:;<=>?@[\\]^_`{|}~\n"
     ]
    }
   ],
   "source": [
    "print(string.punctuation)"
   ]
  },
  {
   "cell_type": "code",
   "execution_count": 6,
   "id": "dc7a5145-cd3a-4522-a635-d039aa1e0770",
   "metadata": {},
   "outputs": [],
   "source": [
    "text = \"My name is Ankush. Whats yours? this is a (test case), adding 5412 number check\"\n",
    "text = preprocessing(text)"
   ]
  },
  {
   "cell_type": "code",
   "execution_count": 7,
   "id": "69cf956b-420f-44f1-8fc7-43056ffc052c",
   "metadata": {},
   "outputs": [],
   "source": [
    "def update_tf(text, tf):\n",
    "    q = queue.Queue()\n",
    "    q.queue = queue.deque(text)\n",
    "    previous = q.get()\n",
    "    current = q.get()\n",
    "    print(previous)\n",
    "    print(current)\n",
    "    for next_word in iter(q.get, None):\n",
    "        print(next_word)\n",
    "        if previous in tf:\n",
    "            if current in tf[previous]:\n",
    "                if next_word in tf[previous][current]:\n",
    "                    tf[previous][current][next_word] += 1\n",
    "                else: \n",
    "                    tf[previous][current][next_word] = 1\n",
    "            else:\n",
    "                tf[previous][current] = {next_word : 1}\n",
    "        else:\n",
    "            tf[previous] = {current : {next_word : 1}}\n",
    "\n",
    "        previous = current\n",
    "        current = next_word\n",
    "\n",
    "    return tf\n",
    "    "
   ]
  },
  {
   "cell_type": "code",
   "execution_count": null,
   "id": "18256f14-20e6-494e-9484-36f80432e6e7",
   "metadata": {},
   "outputs": [
    {
     "name": "stdout",
     "output_type": "stream",
     "text": [
      "my\n",
      "name\n",
      "is\n",
      "ankush\n",
      ".\n",
      "whats\n",
      "yours\n",
      "?\n",
      "this\n",
      "is\n",
      "a\n",
      "test\n",
      "case\n",
      "adding\n",
      "five\n",
      "thousand\n",
      "four\n",
      "hundred\n",
      "and\n",
      "twelve\n",
      "number\n",
      "check\n"
     ]
    }
   ],
   "source": [
    "tf = {}\n",
    "update_tf(text,tf)"
   ]
  },
  {
   "cell_type": "code",
   "execution_count": null,
   "id": "6e005236-ab0f-4003-98a9-4fea40f86fa7",
   "metadata": {},
   "outputs": [],
   "source": [
    "def build_tf():"
   ]
  }
 ],
 "metadata": {
  "kernelspec": {
   "display_name": "Python 3 (ipykernel)",
   "language": "python",
   "name": "python3"
  },
  "language_info": {
   "codemirror_mode": {
    "name": "ipython",
    "version": 3
   },
   "file_extension": ".py",
   "mimetype": "text/x-python",
   "name": "python",
   "nbconvert_exporter": "python",
   "pygments_lexer": "ipython3",
   "version": "3.12.8"
  }
 },
 "nbformat": 4,
 "nbformat_minor": 5
}
